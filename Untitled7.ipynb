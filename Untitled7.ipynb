{
  "nbformat": 4,
  "nbformat_minor": 0,
  "metadata": {
    "colab": {
      "name": "Untitled7.ipynb",
      "provenance": [],
      "mount_file_id": "1IGAahDwmn1Jao-x3d9j5JJpSY1cvW2tQ",
      "authorship_tag": "ABX9TyN1JrKcgcXtM5smYDD6vd8a",
      "include_colab_link": true
    },
    "kernelspec": {
      "name": "python3",
      "display_name": "Python 3"
    }
  },
  "cells": [
    {
      "cell_type": "markdown",
      "metadata": {
        "id": "view-in-github",
        "colab_type": "text"
      },
      "source": [
        "<a href=\"https://colab.research.google.com/github/yukti845/DSA/blob/main/Untitled7.ipynb\" target=\"_parent\"><img src=\"https://colab.research.google.com/assets/colab-badge.svg\" alt=\"Open In Colab\"/></a>"
      ]
    },
    {
      "cell_type": "code",
      "metadata": {
        "id": "0v2lfs9LildJ"
      },
      "source": [
        "import PyPDF2\r\n",
        " \r\n",
        "PDFfilename = \"/content/drive/MyDrive/sample.pdf\" #filename of your PDF/directory where your PDF is stored\r\n",
        " \r\n",
        "pfr = PyPDF2.PdfFileReader(open(PDFfilename, \"rb\"))"
      ],
      "execution_count": 3,
      "outputs": []
    },
    {
      "cell_type": "code",
      "metadata": {
        "colab": {
          "base_uri": "https://localhost:8080/"
        },
        "id": "7nW602vFjXrZ",
        "outputId": "e3381113-3ef1-433d-8497-38e98275543f"
      },
      "source": [
        "\r\n",
        "\r\n",
        "\r\n",
        "\r\n",
        "pip install pypdf2"
      ],
      "execution_count": 2,
      "outputs": [
        {
          "output_type": "stream",
          "text": [
            "Collecting pypdf2\n",
            "\u001b[?25l  Downloading https://files.pythonhosted.org/packages/b4/01/68fcc0d43daf4c6bdbc6b33cc3f77bda531c86b174cac56ef0ffdb96faab/PyPDF2-1.26.0.tar.gz (77kB)\n",
            "\r\u001b[K     |████▎                           | 10kB 15.0MB/s eta 0:00:01\r\u001b[K     |████████▌                       | 20kB 9.3MB/s eta 0:00:01\r\u001b[K     |████████████▊                   | 30kB 8.0MB/s eta 0:00:01\r\u001b[K     |█████████████████               | 40kB 6.9MB/s eta 0:00:01\r\u001b[K     |█████████████████████▏          | 51kB 3.9MB/s eta 0:00:01\r\u001b[K     |█████████████████████████▍      | 61kB 4.4MB/s eta 0:00:01\r\u001b[K     |█████████████████████████████▋  | 71kB 4.7MB/s eta 0:00:01\r\u001b[K     |████████████████████████████████| 81kB 3.7MB/s \n",
            "\u001b[?25hBuilding wheels for collected packages: pypdf2\n",
            "  Building wheel for pypdf2 (setup.py) ... \u001b[?25l\u001b[?25hdone\n",
            "  Created wheel for pypdf2: filename=PyPDF2-1.26.0-cp36-none-any.whl size=61087 sha256=d1bc3345e5a1ee753caa70ad9c196750870938a66f32f94f911ec9b1031e3243\n",
            "  Stored in directory: /root/.cache/pip/wheels/53/84/19/35bc977c8bf5f0c23a8a011aa958acd4da4bbd7a229315c1b7\n",
            "Successfully built pypdf2\n",
            "Installing collected packages: pypdf2\n",
            "Successfully installed pypdf2-1.26.0\n"
          ],
          "name": "stdout"
        }
      ]
    },
    {
      "cell_type": "code",
      "metadata": {
        "id": "f5SlM7N-jRn0"
      },
      "source": [
        "pg3 = pfr.getPage(0) #extract pg 2\r\n",
        "writer = PyPDF2.PdfFileWriter() #create PdfFileWriter object\r\n",
        " \r\n",
        "#add pages\r\n",
        "writer.addPage(pg3)\r\n",
        " \r\n",
        "#filename of your PDF/directory where you want your new PDF to be\r\n",
        "NewPDFfilename = \"sample.pdf\" \r\n",
        " \r\n",
        "with open(NewPDFfilename, \"wb\") as outputStream: #create new PDF\r\n",
        "    writer.write(outputStream)"
      ],
      "execution_count": 6,
      "outputs": []
    },
    {
      "cell_type": "code",
      "metadata": {
        "colab": {
          "base_uri": "https://localhost:8080/",
          "height": 313
        },
        "id": "WxAv1uBJjkp8",
        "outputId": "5e18b628-4184-45d6-ad97-e35673b03f97"
      },
      "source": [
        "import PyPDF2 as pypdf\r\n",
        "pdfobject=open('drive/MyDrive/sample.pdf','rb')\r\n",
        "pdf=pypdf.PdfFileReader(pdfobject)\r\n",
        "pdf.getFormTextFields()"
      ],
      "execution_count": 12,
      "outputs": [
        {
          "output_type": "error",
          "ename": "TypeError",
          "evalue": "ignored",
          "traceback": [
            "\u001b[0;31m---------------------------------------------------------------------------\u001b[0m",
            "\u001b[0;31mTypeError\u001b[0m                                 Traceback (most recent call last)",
            "\u001b[0;32m<ipython-input-12-88845dfbecc4>\u001b[0m in \u001b[0;36m<module>\u001b[0;34m()\u001b[0m\n\u001b[1;32m      2\u001b[0m \u001b[0mpdfobject\u001b[0m\u001b[0;34m=\u001b[0m\u001b[0mopen\u001b[0m\u001b[0;34m(\u001b[0m\u001b[0;34m'drive/MyDrive/sample.pdf'\u001b[0m\u001b[0;34m,\u001b[0m\u001b[0;34m'rb'\u001b[0m\u001b[0;34m)\u001b[0m\u001b[0;34m\u001b[0m\u001b[0;34m\u001b[0m\u001b[0m\n\u001b[1;32m      3\u001b[0m \u001b[0mpdf\u001b[0m\u001b[0;34m=\u001b[0m\u001b[0mpypdf\u001b[0m\u001b[0;34m.\u001b[0m\u001b[0mPdfFileReader\u001b[0m\u001b[0;34m(\u001b[0m\u001b[0mpdfobject\u001b[0m\u001b[0;34m)\u001b[0m\u001b[0;34m\u001b[0m\u001b[0;34m\u001b[0m\u001b[0m\n\u001b[0;32m----> 4\u001b[0;31m \u001b[0mpdf\u001b[0m\u001b[0;34m.\u001b[0m\u001b[0mgetFormTextFields\u001b[0m\u001b[0;34m(\u001b[0m\u001b[0;34m)\u001b[0m\u001b[0;34m\u001b[0m\u001b[0;34m\u001b[0m\u001b[0m\n\u001b[0m",
            "\u001b[0;32m/usr/local/lib/python3.6/dist-packages/PyPDF2/pdf.py\u001b[0m in \u001b[0;36mgetFormTextFields\u001b[0;34m(self)\u001b[0m\n\u001b[1;32m   1280\u001b[0m         \u001b[0mformfields\u001b[0m \u001b[0;34m=\u001b[0m \u001b[0mself\u001b[0m\u001b[0;34m.\u001b[0m\u001b[0mgetFields\u001b[0m\u001b[0;34m(\u001b[0m\u001b[0;34m)\u001b[0m\u001b[0;34m\u001b[0m\u001b[0;34m\u001b[0m\u001b[0m\n\u001b[1;32m   1281\u001b[0m         return dict(\n\u001b[0;32m-> 1282\u001b[0;31m             \u001b[0;34m(\u001b[0m\u001b[0mformfields\u001b[0m\u001b[0;34m[\u001b[0m\u001b[0mfield\u001b[0m\u001b[0;34m]\u001b[0m\u001b[0;34m[\u001b[0m\u001b[0;34m'/T'\u001b[0m\u001b[0;34m]\u001b[0m\u001b[0;34m,\u001b[0m \u001b[0mformfields\u001b[0m\u001b[0;34m[\u001b[0m\u001b[0mfield\u001b[0m\u001b[0;34m]\u001b[0m\u001b[0;34m.\u001b[0m\u001b[0mget\u001b[0m\u001b[0;34m(\u001b[0m\u001b[0;34m'/V'\u001b[0m\u001b[0;34m)\u001b[0m\u001b[0;34m)\u001b[0m \u001b[0;32mfor\u001b[0m \u001b[0mfield\u001b[0m \u001b[0;32min\u001b[0m \u001b[0mformfields\u001b[0m\u001b[0;31m \u001b[0m\u001b[0;31m\\\u001b[0m\u001b[0;34m\u001b[0m\u001b[0;34m\u001b[0m\u001b[0m\n\u001b[0m\u001b[1;32m   1283\u001b[0m                 \u001b[0;32mif\u001b[0m \u001b[0mformfields\u001b[0m\u001b[0;34m[\u001b[0m\u001b[0mfield\u001b[0m\u001b[0;34m]\u001b[0m\u001b[0;34m.\u001b[0m\u001b[0mget\u001b[0m\u001b[0;34m(\u001b[0m\u001b[0;34m'/FT'\u001b[0m\u001b[0;34m)\u001b[0m \u001b[0;34m==\u001b[0m \u001b[0;34m'/Tx'\u001b[0m\u001b[0;34m\u001b[0m\u001b[0;34m\u001b[0m\u001b[0m\n\u001b[1;32m   1284\u001b[0m         )\n",
            "\u001b[0;31mTypeError\u001b[0m: 'NoneType' object is not iterable"
          ]
        }
      ]
    },
    {
      "cell_type": "code",
      "metadata": {
        "id": "b8MmfAUdk72n"
      },
      "source": [
        "from PyPDF2 import PdfFileReader\r\n",
        "import requests\r\n",
        "import io\r\n",
        "from bs4 import BeautifulSoup\r\n",
        "\r\n",
        "url=requests.get('http://www.africau.edu/images/default/sample.pdf')\r\n",
        "soup = BeautifulSoup(url.content,\"lxml\")\r\n",
        "\r\n",
        "for a in soup.find_all('a', href=True):\r\n",
        "    mystr= a['href']\r\n",
        "    if(mystr[-4:]=='.pdf'):\r\n",
        "        print (\"url with pdf final:\", a['href'])\r\n",
        "        urlpdf = a['href']\r\n",
        "        response = requests.get(urlpdf)\r\n",
        "        with io.BytesIO(response.content) as f:\r\n",
        "            pdf = PdfFileReader(f)\r\n",
        "            information = pdf.getDocumentInfo()\r\n",
        "            number_of_pages = pdf.getNumPages()\r\n",
        "            txt = f\"\"\"\r\n",
        "            Author: {information.author}\r\n",
        "            Creator: {information.creator}\r\n",
        "            Producer: {information.producer}\r\n",
        "            Subject: {information.subject}\r\n",
        "            Title: {information.title}\r\n",
        "            Number of pages: {number_of_pages}\r\n",
        "            \"\"\"\r\n",
        "            # Here the metadata of your pdf\r\n",
        "            print(txt)\r\n",
        "            # numpage for the number page\r\n",
        "            numpage=20\r\n",
        "            page = pdf.getPage(numpage)\r\n",
        "            page_content = page.extractText()\r\n",
        "            # print the content in the page 20            \r\n",
        "            print(page_content)"
      ],
      "execution_count": 13,
      "outputs": []
    },
    {
      "cell_type": "code",
      "metadata": {
        "colab": {
          "base_uri": "https://localhost:8080/"
        },
        "id": "mffxT7kdme-x",
        "outputId": "263f97f7-53ef-4f78-aa71-8da436d44f25"
      },
      "source": [
        "import PyPDF2\r\n",
        "fhandle = open(r'/content/drive/MyDrive/sample.pdf', 'rb')\r\n",
        "pdfReader = PyPDF2.PdfFileReader(fhandle)\r\n",
        "pagehandle = pdfReader.getPage(0)\r\n",
        "print(pagehandle.extractText())"
      ],
      "execution_count": 14,
      "outputs": [
        {
          "output_type": "stream",
          "text": [
            " A Simple PDF File  This is a small demonstration .pdf file -  just for use in the Virtual Mechanics tutorials. More text. And more  text. And more text. And more text. And more text.  And more text. And more text. And more text. And more text. And more  text. And more text. Boring, zzzzz. And more text. And more text. And  more text. And more text. And more text. And more text. And more text.  And more text. And more text.  And more text. And more text. And more text. And more text. And more  text. And more text. And more text. Even more. Continued on page 2 ...\n"
          ],
          "name": "stdout"
        }
      ]
    },
    {
      "cell_type": "code",
      "metadata": {
        "colab": {
          "base_uri": "https://localhost:8080/"
        },
        "id": "EGf33ykQoAot",
        "outputId": "d27df295-faf8-4a48-f4d2-5be16231f6e3"
      },
      "source": [
        "import PyPDF2\r\n",
        "# pdf file object\r\n",
        "# you can find find the pdf file with complete code in below\r\n",
        "pdfFileObj = open('/content/drive/MyDrive/sample.pdf', 'rb')\r\n",
        "# pdf reader object\r\n",
        "pdfReader = PyPDF2.PdfFileReader(pdfFileObj)\r\n",
        "# number of pages in pdf\r\n",
        "print(pdfReader.numPages)\r\n",
        "# a page object\r\n",
        "pageObj = pdfReader.getPage(0)\r\n",
        "# extracting text from page.\r\n",
        "# this will print the text you can also save that into String\r\n",
        "print(pageObj.extractText())"
      ],
      "execution_count": 16,
      "outputs": [
        {
          "output_type": "stream",
          "text": [
            "2\n",
            " A Simple PDF File  This is a small demonstration .pdf file -  just for use in the Virtual Mechanics tutorials. More text. And more  text. And more text. And more text. And more text.  And more text. And more text. And more text. And more text. And more  text. And more text. Boring, zzzzz. And more text. And more text. And  more text. And more text. And more text. And more text. And more text.  And more text. And more text.  And more text. And more text. And more text. And more text. And more  text. And more text. And more text. Even more. Continued on page 2 ...\n"
          ],
          "name": "stdout"
        }
      ]
    },
    {
      "cell_type": "code",
      "metadata": {
        "colab": {
          "base_uri": "https://localhost:8080/"
        },
        "id": "m2-AI5keqSKv",
        "outputId": "5c2e2c0e-c64f-4090-937c-83fc13672e70"
      },
      "source": [
        "import tabula\r\n",
        "# readinf the PDF file that contain Table Data\r\n",
        "# you can find find the pdf file with complete code in below\r\n",
        "# read_pdf will save the pdf table into Pandas Dataframe\r\n",
        "df = tabula.read_pdf(\"/content/drive/MyDrive/sample.pdf\")\r\n",
        "# in order to print first 5 lines of Table\r\n",
        "df"
      ],
      "execution_count": 4,
      "outputs": [
        {
          "output_type": "stream",
          "text": [
            "'pages' argument isn't specified.Will extract only from page 1 by default.\n",
            "Got stderr: Dec 26, 2020 1:38:23 PM org.apache.pdfbox.pdmodel.font.PDType1Font <init>\n",
            "WARNING: Using fallback font LiberationSans for base font Symbol\n",
            "Dec 26, 2020 1:38:23 PM org.apache.pdfbox.pdmodel.font.PDType1Font <init>\n",
            "WARNING: Using fallback font LiberationSans for base font ZapfDingbats\n",
            "\n"
          ],
          "name": "stderr"
        },
        {
          "output_type": "execute_result",
          "data": {
            "text/plain": [
              "[]"
            ]
          },
          "metadata": {
            "tags": []
          },
          "execution_count": 4
        }
      ]
    },
    {
      "cell_type": "code",
      "metadata": {
        "colab": {
          "base_uri": "https://localhost:8080/"
        },
        "id": "J9OVgGvxFqc5",
        "outputId": "96914b65-596a-4d96-afcf-43f0e5c50908"
      },
      "source": [
        "pip install tabula-py"
      ],
      "execution_count": 2,
      "outputs": [
        {
          "output_type": "stream",
          "text": [
            "Collecting tabula-py\n",
            "\u001b[?25l  Downloading https://files.pythonhosted.org/packages/cf/29/d6cb0d77ef46d84d35cffa09cf42c73b373aea664d28604eab6818f8a47c/tabula_py-2.2.0-py3-none-any.whl (11.7MB)\n",
            "\u001b[K     |████████████████████████████████| 11.7MB 3.9MB/s \n",
            "\u001b[?25hRequirement already satisfied: pandas>=0.25.3 in /usr/local/lib/python3.6/dist-packages (from tabula-py) (1.1.5)\n",
            "Collecting distro\n",
            "  Downloading https://files.pythonhosted.org/packages/25/b7/b3c4270a11414cb22c6352ebc7a83aaa3712043be29daa05018fd5a5c956/distro-1.5.0-py2.py3-none-any.whl\n",
            "Requirement already satisfied: numpy in /usr/local/lib/python3.6/dist-packages (from tabula-py) (1.19.4)\n",
            "Requirement already satisfied: python-dateutil>=2.7.3 in /usr/local/lib/python3.6/dist-packages (from pandas>=0.25.3->tabula-py) (2.8.1)\n",
            "Requirement already satisfied: pytz>=2017.2 in /usr/local/lib/python3.6/dist-packages (from pandas>=0.25.3->tabula-py) (2018.9)\n",
            "Requirement already satisfied: six>=1.5 in /usr/local/lib/python3.6/dist-packages (from python-dateutil>=2.7.3->pandas>=0.25.3->tabula-py) (1.15.0)\n",
            "Installing collected packages: distro, tabula-py\n",
            "Successfully installed distro-1.5.0 tabula-py-2.2.0\n"
          ],
          "name": "stdout"
        }
      ]
    },
    {
      "cell_type": "code",
      "metadata": {
        "id": "p8uSYLglFvqv"
      },
      "source": [
        ""
      ],
      "execution_count": null,
      "outputs": []
    }
  ]
}